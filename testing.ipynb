{
 "cells": [
  {
   "cell_type": "code",
   "execution_count": 2,
   "metadata": {},
   "outputs": [
    {
     "name": "stdout",
     "output_type": "stream",
     "text": [
      "Hello world\n"
     ]
    }
   ],
   "source": [
    "print (\"Hello world\")"
   ]
  },
  {
   "cell_type": "code",
   "execution_count": 5,
   "metadata": {},
   "outputs": [
    {
     "name": "stdout",
     "output_type": "stream",
     "text": [
      "dir_ls ['AI & IB.rar', 'dir-lst.txt']\n",
      "dir-lst.txt file found\n",
      "files  ['sam.zip', 'home.rar']\n",
      "AI & IB.rar is ready for extraction\n",
      "['AI & IB.rar']\n"
     ]
    }
   ],
   "source": [
    "import os \n",
    "import config\n",
    "\n",
    "\n",
    "dir_ls =  os.listdir (config.zip_folder )\n",
    "print (\"dir_ls\", dir_ls)\n",
    "zip_filenames = []\n",
    "un_zippded_filesname = []\n",
    "\n",
    "if \"dir-lst.txt\" in os.listdir (config.zip_folder):\n",
    "    print (\"dir-lst.txt file found\")\n",
    "\n",
    "else:\n",
    "    print (\"dir-lst.txt NOT file found\")\n",
    "    \n",
    "    with open (os.path.join (config.zip_folder,\n",
    "                            'dir-lst.txt'),\n",
    "                 'w' ) as x:\n",
    "        pass\n",
    "\n",
    "\n",
    "with open (config.zip_folder + '/' + 'dir-lst.txt', 'rt' ) as x:\n",
    "    un_zippded_filesname = x.read ().split('\\n')\n",
    "    print (\"files \", un_zippded_filesname)\n",
    "\n",
    "for file in dir_ls:\n",
    "    # zip_filenames.append ( if file in un_zippded_filesname : file )\n",
    "    if file not in un_zippded_filesname and (file[-3:] == 'rar' or file[-3:] == 'zip'):\n",
    "        print (f\"{file} is ready for extraction\")\n",
    "        zip_filenames.append (file)\n",
    "\n",
    "print (zip_filenames)\n"
   ]
  },
  {
   "cell_type": "code",
   "execution_count": 28,
   "metadata": {},
   "outputs": [
    {
     "data": {
      "text/plain": [
       "['AI & IB.rar']"
      ]
     },
     "execution_count": 28,
     "metadata": {},
     "output_type": "execute_result"
    }
   ],
   "source": [
    "zip_filenames"
   ]
  },
  {
   "cell_type": "code",
   "execution_count": 9,
   "metadata": {},
   "outputs": [
    {
     "name": "stdout",
     "output_type": "stream",
     "text": [
      "Found existing installation: pyunpack 0.3\n",
      "Uninstalling pyunpack-0.3:\n",
      "  Successfully uninstalled pyunpack-0.3\n",
      "Found existing installation: patool 2.2.0\n",
      "Uninstalling patool-2.2.0:\n",
      "  Successfully uninstalled patool-2.2.0\n",
      "Found existing installation: unrar 0.4\n",
      "Uninstalling unrar-0.4:\n",
      "  Successfully uninstalled unrar-0.4\n"
     ]
    }
   ],
   "source": [
    "# !pip uninstall pyunpack patool unrar -y"
   ]
  },
  {
   "cell_type": "code",
   "execution_count": 35,
   "metadata": {},
   "outputs": [
    {
     "ename": "PatoolError",
     "evalue": "patool can not unpack\nINFO patool: Extracting /home/safeer/Documents/ml/QA-on-IslamicBanking/data/zip-data/AI & IB.rar ...\nERROR patool: error extracting /home/safeer/Documents/ml/QA-on-IslamicBanking/data/zip-data/AI & IB.rar: could not find an executable program to extract format rar; candidates are rar,unrar,7z,7zz,7zzs,unar",
     "output_type": "error",
     "traceback": [
      "\u001b[0;31m---------------------------------------------------------------------------\u001b[0m",
      "\u001b[0;31mPatoolError\u001b[0m                               Traceback (most recent call last)",
      "Cell \u001b[0;32mIn[35], line 3\u001b[0m\n\u001b[1;32m      1\u001b[0m \u001b[38;5;28;01mfrom\u001b[39;00m \u001b[38;5;21;01mpyunpack\u001b[39;00m \u001b[38;5;28;01mimport\u001b[39;00m Archive\n\u001b[0;32m----> 3\u001b[0m \u001b[43mArchive\u001b[49m\u001b[43m \u001b[49m\u001b[43m(\u001b[49m\u001b[43mconfig\u001b[49m\u001b[38;5;241;43m.\u001b[39;49m\u001b[43mzip_folder\u001b[49m\u001b[43m \u001b[49m\u001b[38;5;241;43m+\u001b[39;49m\u001b[43m \u001b[49m\u001b[38;5;124;43m'\u001b[39;49m\u001b[38;5;124;43m/\u001b[39;49m\u001b[38;5;124;43m'\u001b[39;49m\u001b[43m \u001b[49m\u001b[38;5;241;43m+\u001b[39;49m\u001b[43m \u001b[49m\u001b[43mzip_filenames\u001b[49m\u001b[43m[\u001b[49m\u001b[38;5;241;43m0\u001b[39;49m\u001b[43m]\u001b[49m\u001b[43m)\u001b[49m\u001b[38;5;241;43m.\u001b[39;49m\u001b[43mextractall\u001b[49m\u001b[43m \u001b[49m\u001b[43m(\u001b[49m\u001b[38;5;124;43m'\u001b[39;49m\u001b[38;5;124;43m.\u001b[39;49m\u001b[38;5;124;43m'\u001b[39;49m\u001b[43m \u001b[49m\u001b[43m)\u001b[49m\n",
      "File \u001b[0;32m~/Documents/ml/QA-on-IslamicBanking/.venv/lib/python3.12/site-packages/pyunpack/__init__.py:113\u001b[0m, in \u001b[0;36mArchive.extractall\u001b[0;34m(self, directory, auto_create_dir, patool_path)\u001b[0m\n\u001b[1;32m    111\u001b[0m         \u001b[38;5;28mself\u001b[39m\u001b[38;5;241m.\u001b[39mextractall_zipfile(directory)\n\u001b[1;32m    112\u001b[0m     \u001b[38;5;28;01melse\u001b[39;00m:\n\u001b[0;32m--> 113\u001b[0m         \u001b[38;5;28;43mself\u001b[39;49m\u001b[38;5;241;43m.\u001b[39;49m\u001b[43mextractall_patool\u001b[49m\u001b[43m(\u001b[49m\u001b[43mdirectory\u001b[49m\u001b[43m,\u001b[49m\u001b[43m \u001b[49m\u001b[43mpatool_path\u001b[49m\u001b[43m)\u001b[49m\n\u001b[1;32m    115\u001b[0m \u001b[38;5;28;01mif\u001b[39;00m \u001b[38;5;28mself\u001b[39m\u001b[38;5;241m.\u001b[39mbackend \u001b[38;5;241m==\u001b[39m \u001b[38;5;124m\"\u001b[39m\u001b[38;5;124mzipfile\u001b[39m\u001b[38;5;124m\"\u001b[39m:\n\u001b[1;32m    116\u001b[0m     \u001b[38;5;28;01mif\u001b[39;00m \u001b[38;5;129;01mnot\u001b[39;00m is_zipfile:\n",
      "File \u001b[0;32m~/Documents/ml/QA-on-IslamicBanking/.venv/lib/python3.12/site-packages/pyunpack/__init__.py:74\u001b[0m, in \u001b[0;36mArchive.extractall_patool\u001b[0;34m(self, directory, patool_path)\u001b[0m\n\u001b[1;32m     72\u001b[0m     \u001b[38;5;28;01mraise\u001b[39;00m PatoolError(\u001b[38;5;124m\"\u001b[39m\u001b[38;5;124mpatool timeout\u001b[39m\u001b[38;5;130;01m\\n\u001b[39;00m\u001b[38;5;124m\"\u001b[39m \u001b[38;5;241m+\u001b[39m \u001b[38;5;28mstr\u001b[39m(p\u001b[38;5;241m.\u001b[39mstdout) \u001b[38;5;241m+\u001b[39m \u001b[38;5;124m\"\u001b[39m\u001b[38;5;130;01m\\n\u001b[39;00m\u001b[38;5;124m\"\u001b[39m \u001b[38;5;241m+\u001b[39m \u001b[38;5;28mstr\u001b[39m(p\u001b[38;5;241m.\u001b[39mstderr))\n\u001b[1;32m     73\u001b[0m \u001b[38;5;28;01mif\u001b[39;00m p\u001b[38;5;241m.\u001b[39mreturn_code:\n\u001b[0;32m---> 74\u001b[0m     \u001b[38;5;28;01mraise\u001b[39;00m PatoolError(\u001b[38;5;124m\"\u001b[39m\u001b[38;5;124mpatool can not unpack\u001b[39m\u001b[38;5;130;01m\\n\u001b[39;00m\u001b[38;5;124m\"\u001b[39m \u001b[38;5;241m+\u001b[39m \u001b[38;5;28mstr\u001b[39m(p\u001b[38;5;241m.\u001b[39mstderr))\n",
      "\u001b[0;31mPatoolError\u001b[0m: patool can not unpack\nINFO patool: Extracting /home/safeer/Documents/ml/QA-on-IslamicBanking/data/zip-data/AI & IB.rar ...\nERROR patool: error extracting /home/safeer/Documents/ml/QA-on-IslamicBanking/data/zip-data/AI & IB.rar: could not find an executable program to extract format rar; candidates are rar,unrar,7z,7zz,7zzs,unar"
     ]
    }
   ],
   "source": [
    "from pyunpack import Archive\n",
    "\n",
    "Archive (config.zip_folder + '/' + zip_filenames[0]).extractall ('.' )"
   ]
  },
  {
   "cell_type": "code",
   "execution_count": 7,
   "metadata": {},
   "outputs": [
    {
     "ename": "ModuleNotFoundError",
     "evalue": "No module named 'rarfile'",
     "output_type": "error",
     "traceback": [
      "\u001b[0;31m---------------------------------------------------------------------------\u001b[0m",
      "\u001b[0;31mModuleNotFoundError\u001b[0m                       Traceback (most recent call last)",
      "Cell \u001b[0;32mIn[7], line 1\u001b[0m\n\u001b[0;32m----> 1\u001b[0m \u001b[38;5;28;01mfrom\u001b[39;00m \u001b[38;5;21;01mrarfile\u001b[39;00m \u001b[38;5;28;01mimport\u001b[39;00m \u001b[38;5;241m*\u001b[39m  \n\u001b[1;32m      4\u001b[0m \u001b[38;5;66;03m# rarfile.RarFile (config.zip_folder)\u001b[39;00m\n",
      "\u001b[0;31mModuleNotFoundError\u001b[0m: No module named 'rarfile'"
     ]
    }
   ],
   "source": [
    "from rarfile import *  \n",
    "\n",
    "\n",
    "# rarfile.RarFile (config.zip_folder)"
   ]
  },
  {
   "cell_type": "code",
   "execution_count": 1,
   "metadata": {},
   "outputs": [
    {
     "name": "stdout",
     "output_type": "stream",
     "text": [
      "\u001b[31mERROR: Could not find a version that satisfies the requirement zipfile (from versions: none)\u001b[0m\u001b[31m\n",
      "\u001b[0m\u001b[31mERROR: No matching distribution found for zipfile\u001b[0m\u001b[31m\n",
      "\u001b[0m"
     ]
    }
   ],
   "source": [
    "!pip install zipfile rarfile"
   ]
  },
  {
   "cell_type": "code",
   "execution_count": null,
   "metadata": {},
   "outputs": [],
   "source": [
    "import zipfile\n",
    "import rarfile\n",
    "import os\n",
    "\n",
    "def extract_file(file_path, extract_to='.'):\n",
    "    if file_path.endswith('.zip'):\n",
    "        with zipfile.ZipFile(file_path, 'r') as zip_ref:\n",
    "            zip_ref.extractall(extract_to)\n",
    "    elif file_path.endswith('.rar'):\n",
    "        with rarfile.RarFile(file_path, 'r') as rar_ref:\n",
    "            rar_ref.extractall(extract_to)\n",
    "    else:\n",
    "        raise ValueError(\"Unsupported file format\")\n",
    "\n",
    "# Example usage\n",
    "file_path = 'path/to/your/file.zip'  # or 'path/to/your/file.rar'\n",
    "extract_to_path = 'path/to/extract/directory'\n",
    "extract_file(file_path, extract_to_path)\n"
   ]
  },
  {
   "cell_type": "code",
   "execution_count": 2,
   "metadata": {},
   "outputs": [],
   "source": [
    "lst = ['sam.zip','zasdf.rar','dsaf.rar','dfas.zip']\n"
   ]
  },
  {
   "cell_type": "code",
   "execution_count": 8,
   "metadata": {},
   "outputs": [
    {
     "data": {
      "text/plain": [
       "['data/zip-data/sam.zip',\n",
       " 'data/zip-data/zasdf.rar',\n",
       " 'data/zip-data/dsaf.rar',\n",
       " 'data/zip-data/dfas.zip']"
      ]
     },
     "execution_count": 8,
     "metadata": {},
     "output_type": "execute_result"
    }
   ],
   "source": [
    "import os\n",
    "import config\n",
    "\n",
    "ls = []\n",
    "for i in lst:\n",
    "    ls.append ( os.path.join( config.zip_folder , i ) )\n",
    "\n",
    "ls"
   ]
  },
  {
   "cell_type": "code",
   "execution_count": null,
   "metadata": {},
   "outputs": [],
   "source": [
    "import zipfile\n",
    "import rarfile\n",
    "import os\n",
    "\n",
    "def extract_file(file_path, extract_to='.'):\n",
    "    if file_path.endswith('.zip'):\n",
    "        with zipfile.ZipFile(file_path, 'r') as zip_ref:\n",
    "            zip_ref.extractall(extract_to)\n",
    "    elif file_path.endswith('.rar'):\n",
    "        with rarfile.RarFile(file_path, 'r') as rar_ref:\n",
    "            rar_ref.extractall(extract_to)\n",
    "    else:\n",
    "        raise ValueError(\"Unsupported file format\")\n",
    "\n",
    "# Example usage\n",
    "file_path = 'path/to/your/file.zip'  # or 'path/to/your/file.rar'\n",
    "extract_to_path = 'path/to/extract/directory'\n",
    "extract_file(file_path, extract_to_path)\n"
   ]
  }
 ],
 "metadata": {
  "kernelspec": {
   "display_name": ".venv",
   "language": "python",
   "name": "python3"
  },
  "language_info": {
   "codemirror_mode": {
    "name": "ipython",
    "version": 3
   },
   "file_extension": ".py",
   "mimetype": "text/x-python",
   "name": "python",
   "nbconvert_exporter": "python",
   "pygments_lexer": "ipython3",
   "version": "3.12.3"
  }
 },
 "nbformat": 4,
 "nbformat_minor": 2
}
